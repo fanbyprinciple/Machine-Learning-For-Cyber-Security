{
  "nbformat": 4,
  "nbformat_minor": 0,
  "metadata": {
    "colab": {
      "name": "github collector",
      "provenance": [],
      "collapsed_sections": []
    },
    "kernelspec": {
      "name": "python3",
      "display_name": "Python 3"
    },
    "language_info": {
      "name": "python"
    }
  },
  "cells": [
    {
      "cell_type": "code",
      "metadata": {
        "colab": {
          "base_uri": "https://localhost:8080/"
        },
        "id": "3-EAK9R_503y",
        "outputId": "e8294010-bc6a-4a5b-d039-4d3d0dec59a2"
      },
      "source": [
        "!pip install PyGitHub"
      ],
      "execution_count": 6,
      "outputs": [
        {
          "output_type": "stream",
          "text": [
            "Requirement already satisfied: PyGitHub in /usr/local/lib/python3.7/dist-packages (1.55)\n",
            "Requirement already satisfied: deprecated in /usr/local/lib/python3.7/dist-packages (from PyGitHub) (1.2.12)\n",
            "Requirement already satisfied: pyjwt>=2.0 in /usr/local/lib/python3.7/dist-packages (from PyGitHub) (2.0.1)\n",
            "Requirement already satisfied: pynacl>=1.4.0 in /usr/local/lib/python3.7/dist-packages (from PyGitHub) (1.4.0)\n",
            "Requirement already satisfied: requests>=2.14.0 in /usr/local/lib/python3.7/dist-packages (from PyGitHub) (2.23.0)\n",
            "Requirement already satisfied: wrapt<2,>=1.10 in /usr/local/lib/python3.7/dist-packages (from deprecated->PyGitHub) (1.12.1)\n",
            "Requirement already satisfied: cffi>=1.4.1 in /usr/local/lib/python3.7/dist-packages (from pynacl>=1.4.0->PyGitHub) (1.14.5)\n",
            "Requirement already satisfied: six in /usr/local/lib/python3.7/dist-packages (from pynacl>=1.4.0->PyGitHub) (1.15.0)\n",
            "Requirement already satisfied: certifi>=2017.4.17 in /usr/local/lib/python3.7/dist-packages (from requests>=2.14.0->PyGitHub) (2020.12.5)\n",
            "Requirement already satisfied: urllib3!=1.25.0,!=1.25.1,<1.26,>=1.21.1 in /usr/local/lib/python3.7/dist-packages (from requests>=2.14.0->PyGitHub) (1.24.3)\n",
            "Requirement already satisfied: chardet<4,>=3.0.2 in /usr/local/lib/python3.7/dist-packages (from requests>=2.14.0->PyGitHub) (3.0.4)\n",
            "Requirement already satisfied: idna<3,>=2.5 in /usr/local/lib/python3.7/dist-packages (from requests>=2.14.0->PyGitHub) (2.10)\n",
            "Requirement already satisfied: pycparser in /usr/local/lib/python3.7/dist-packages (from cffi>=1.4.1->pynacl>=1.4.0->PyGitHub) (2.20)\n"
          ],
          "name": "stdout"
        }
      ]
    },
    {
      "cell_type": "code",
      "metadata": {
        "id": "HS3QrU8A6Gha"
      },
      "source": [
        "import os\n",
        "from github import Github \n",
        "import base64"
      ],
      "execution_count": 7,
      "outputs": []
    },
    {
      "cell_type": "code",
      "metadata": {
        "id": "BsbbM3AKNIhv"
      },
      "source": [
        "if os.path.exists(\"/content/f.txt\"):\n",
        "  p = open(\"/content/f.txt\").readline()"
      ],
      "execution_count": 8,
      "outputs": []
    },
    {
      "cell_type": "code",
      "metadata": {
        "id": "2KWzhlCK61dC"
      },
      "source": [
        "try:\n",
        "  g = Github(p)\n",
        "except Exception as e:\n",
        "  print(e)\n",
        "\n"
      ],
      "execution_count": 9,
      "outputs": []
    },
    {
      "cell_type": "code",
      "metadata": {
        "id": "qOl3O6IR9veh"
      },
      "source": [
        "def get_files(target_dir, target_query, target_extension):\n",
        "  if not os.path.exists(target_dir):\n",
        "    os.mkdir(target_dir)\n",
        "\n",
        "  repositories = g.search_repositories(query=target_query)\n",
        "  n = 5\n",
        "  i = 0\n",
        "\n",
        "  for i, repo in enumerate(repositories):\n",
        "    if i < 5:\n",
        "      print(repo)\n",
        "      reponame = repo.name\n",
        "      target_dir_of_repo = target_dir + reponame\n",
        "      if not os.path.exists(target_dir_of_repo):\n",
        "        os.mkdir(target_dir_of_repo)\n",
        "      contents = repo.get_contents(\"\")\n",
        "      while len(contents) > 1:\n",
        "        file_content = contents.pop(0)\n",
        "        if file_content.type == \"dir\":\n",
        "          if (len(contents)<10):\n",
        "            contents.extend(repo.get_contents(file_content.path))\n",
        "        else:\n",
        "          st = str(file_content)\n",
        "          filename = st.split('\"')[1].split('\"')[0]\n",
        "          extension = filename.split(\".\")[-1]\n",
        "          if extension == target_extension:\n",
        "            filecontents = repo.get_contents(file_content.path)\n",
        "            file_data = base64.b64decode(filecontents.content)\n",
        "            filename = filename.split(\"/\")[-1]\n",
        "            file_out = open(target_dir_of_repo + \"/\" + filename, \"wb\")\n",
        "            file_out.write(file_data)\n",
        "    else:\n",
        "      break"
      ],
      "execution_count": 10,
      "outputs": []
    },
    {
      "cell_type": "code",
      "metadata": {
        "colab": {
          "base_uri": "https://localhost:8080/"
        },
        "id": "tjvwqI6eRuwf",
        "outputId": "e3347c6d-5ccd-4888-d646-e3090be86f0c"
      },
      "source": [
        "get_files(\"/content/JavascriptSamples/\", \"language:javascript\", \"js\")"
      ],
      "execution_count": 11,
      "outputs": [
        {
          "output_type": "stream",
          "text": [
            "Repository(full_name=\"freeCodeCamp/freeCodeCamp\")\n",
            "Repository(full_name=\"vuejs/vue\")\n",
            "Repository(full_name=\"facebook/react\")\n",
            "Repository(full_name=\"twbs/bootstrap\")\n",
            "Repository(full_name=\"airbnb/javascript\")\n"
          ],
          "name": "stdout"
        }
      ]
    },
    {
      "cell_type": "code",
      "metadata": {
        "colab": {
          "base_uri": "https://localhost:8080/"
        },
        "id": "4OB_cP9-QPP6",
        "outputId": "073a1b8c-6d24-4b22-a39f-4a8b7cceba33"
      },
      "source": [
        "get_files(\"/content/PowershellSamples/\", \"language:powershell\", \"ps1\" )"
      ],
      "execution_count": 12,
      "outputs": [
        {
          "output_type": "stream",
          "text": [
            "Repository(full_name=\"lukesampson/scoop\")\n",
            "Repository(full_name=\"Azure/azure-quickstart-templates\")\n",
            "Repository(full_name=\"Sycnex/Windows10Debloater\")\n",
            "Repository(full_name=\"dotnet/blazor\")\n",
            "Repository(full_name=\"PowerShellMafia/PowerSploit\")\n"
          ],
          "name": "stdout"
        }
      ]
    },
    {
      "cell_type": "code",
      "metadata": {
        "colab": {
          "base_uri": "https://localhost:8080/"
        },
        "id": "NIaQNjTKQy7J",
        "outputId": "05a8d766-153c-48af-8912-54a47cac23cd"
      },
      "source": [
        "get_files(\"/content/PythonSamples/\", \"language:python\", \"py\" )"
      ],
      "execution_count": 13,
      "outputs": [
        {
          "output_type": "stream",
          "text": [
            "Repository(full_name=\"donnemartin/system-design-primer\")\n",
            "Repository(full_name=\"public-apis/public-apis\")\n",
            "Repository(full_name=\"TheAlgorithms/Python\")\n",
            "Repository(full_name=\"jackfrued/Python-100-Days\")\n",
            "Repository(full_name=\"ytdl-org/youtube-dl\")\n"
          ],
          "name": "stdout"
        }
      ]
    }
  ]
}