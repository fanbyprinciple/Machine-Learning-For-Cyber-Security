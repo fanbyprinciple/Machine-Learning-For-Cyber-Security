{
  "nbformat": 4,
  "nbformat_minor": 0,
  "metadata": {
    "colab": {
      "name": "looking at pdfid",
      "provenance": []
    },
    "kernelspec": {
      "name": "python3",
      "display_name": "Python 3"
    },
    "language_info": {
      "name": "python"
    }
  },
  "cells": [
    {
      "cell_type": "code",
      "metadata": {
        "colab": {
          "base_uri": "https://localhost:8080/"
        },
        "id": "OGgUgMK63eMO",
        "outputId": "ba7ed9c9-e9d9-4f65-d685-b00db9af8ba9"
      },
      "source": [
        "!pip install pdfid"
      ],
      "execution_count": 7,
      "outputs": [
        {
          "output_type": "stream",
          "text": [
            "Requirement already satisfied: pdfid in /usr/local/lib/python3.7/dist-packages (1.0.4)\n"
          ],
          "name": "stdout"
        }
      ]
    },
    {
      "cell_type": "code",
      "metadata": {
        "colab": {
          "base_uri": "https://localhost:8080/"
        },
        "id": "OEnfvsk63pDt",
        "outputId": "9ae98086-9e9d-4298-b72a-8a385e38ed84"
      },
      "source": [
        "!wget \"https://github.com/PacktPublishing/Machine-Learning-for-Cybersecurity-Cookbook/raw/master/Chapter03/Featurizing%20PDF%20Files/PDFSamples/PythonBrochure.pdf\""
      ],
      "execution_count": 8,
      "outputs": [
        {
          "output_type": "stream",
          "text": [
            "--2021-05-04 01:43:45--  https://github.com/PacktPublishing/Machine-Learning-for-Cybersecurity-Cookbook/raw/master/Chapter03/Featurizing%20PDF%20Files/PDFSamples/PythonBrochure.pdf\n",
            "Resolving github.com (github.com)... 192.30.255.112\n",
            "Connecting to github.com (github.com)|192.30.255.112|:443... connected.\n",
            "HTTP request sent, awaiting response... 302 Found\n",
            "Location: https://raw.githubusercontent.com/PacktPublishing/Machine-Learning-for-Cybersecurity-Cookbook/master/Chapter03/Featurizing%20PDF%20Files/PDFSamples/PythonBrochure.pdf [following]\n",
            "--2021-05-04 01:43:45--  https://raw.githubusercontent.com/PacktPublishing/Machine-Learning-for-Cybersecurity-Cookbook/master/Chapter03/Featurizing%20PDF%20Files/PDFSamples/PythonBrochure.pdf\n",
            "Resolving raw.githubusercontent.com (raw.githubusercontent.com)... 185.199.108.133, 185.199.109.133, 185.199.110.133, ...\n",
            "Connecting to raw.githubusercontent.com (raw.githubusercontent.com)|185.199.108.133|:443... connected.\n",
            "HTTP request sent, awaiting response... 200 OK\n",
            "Length: 9480717 (9.0M) [application/octet-stream]\n",
            "Saving to: ‘PythonBrochure.pdf.1’\n",
            "\n",
            "PythonBrochure.pdf. 100%[===================>]   9.04M  25.7MB/s    in 0.4s    \n",
            "\n",
            "2021-05-04 01:43:46 (25.7 MB/s) - ‘PythonBrochure.pdf.1’ saved [9480717/9480717]\n",
            "\n"
          ],
          "name": "stdout"
        }
      ]
    },
    {
      "cell_type": "code",
      "metadata": {
        "colab": {
          "base_uri": "https://localhost:8080/"
        },
        "id": "xLi1ctFf34Ty",
        "outputId": "fc1c3296-d5c9-43be-9152-f0444aa06f48"
      },
      "source": [
        "!wget \"https://github.com/PacktPublishing/Machine-Learning-for-Cybersecurity-Cookbook/raw/master/Chapter03/Featurizing%20PDF%20Files/PDFSamples/pdfDOCS_User_Reference_Guide-1.pdf\""
      ],
      "execution_count": 9,
      "outputs": [
        {
          "output_type": "stream",
          "text": [
            "--2021-05-04 01:43:46--  https://github.com/PacktPublishing/Machine-Learning-for-Cybersecurity-Cookbook/raw/master/Chapter03/Featurizing%20PDF%20Files/PDFSamples/pdfDOCS_User_Reference_Guide-1.pdf\n",
            "Resolving github.com (github.com)... 192.30.255.112\n",
            "Connecting to github.com (github.com)|192.30.255.112|:443... connected.\n",
            "HTTP request sent, awaiting response... 302 Found\n",
            "Location: https://raw.githubusercontent.com/PacktPublishing/Machine-Learning-for-Cybersecurity-Cookbook/master/Chapter03/Featurizing%20PDF%20Files/PDFSamples/pdfDOCS_User_Reference_Guide-1.pdf [following]\n",
            "--2021-05-04 01:43:47--  https://raw.githubusercontent.com/PacktPublishing/Machine-Learning-for-Cybersecurity-Cookbook/master/Chapter03/Featurizing%20PDF%20Files/PDFSamples/pdfDOCS_User_Reference_Guide-1.pdf\n",
            "Resolving raw.githubusercontent.com (raw.githubusercontent.com)... 185.199.108.133, 185.199.109.133, 185.199.110.133, ...\n",
            "Connecting to raw.githubusercontent.com (raw.githubusercontent.com)|185.199.108.133|:443... connected.\n",
            "HTTP request sent, awaiting response... 200 OK\n",
            "Length: 3581596 (3.4M) [application/octet-stream]\n",
            "Saving to: ‘pdfDOCS_User_Reference_Guide-1.pdf.1’\n",
            "\n",
            "pdfDOCS_User_Refere 100%[===================>]   3.42M  --.-KB/s    in 0.1s    \n",
            "\n",
            "2021-05-04 01:43:48 (33.9 MB/s) - ‘pdfDOCS_User_Reference_Guide-1.pdf.1’ saved [3581596/3581596]\n",
            "\n"
          ],
          "name": "stdout"
        }
      ]
    },
    {
      "cell_type": "code",
      "metadata": {
        "colab": {
          "base_uri": "https://localhost:8080/"
        },
        "id": "V_WUyOBtEEWf",
        "outputId": "f1d31adc-9580-4a1a-c274-05ff4b0543de"
      },
      "source": [
        "# after uploading pdfid.zip\n",
        "\n",
        "!unzip \"pdfid.zip\""
      ],
      "execution_count": 15,
      "outputs": [
        {
          "output_type": "stream",
          "text": [
            "Archive:  pdfid.zip\n",
            "   creating: pdfid/\n",
            " extracting: pdfid/plugin_embeddedfile.py  \n",
            " extracting: pdfid/pdfid.py          \n",
            " extracting: pdfid/plugin_list       \n",
            " extracting: pdfid/pdfid.ini         \n",
            " extracting: pdfid/plugin_nameobfuscation.py  \n",
            " extracting: pdfid/plugin_triage.py  \n"
          ],
          "name": "stdout"
        }
      ]
    },
    {
      "cell_type": "code",
      "metadata": {
        "id": "0DtzUxJA58Uh"
      },
      "source": [
        "from IPython.utils import io"
      ],
      "execution_count": 16,
      "outputs": []
    },
    {
      "cell_type": "code",
      "metadata": {
        "colab": {
          "base_uri": "https://localhost:8080/"
        },
        "id": "Rh1WVqScFT-J",
        "outputId": "25ff7373-43fa-4a20-8bbb-0275b365172a"
      },
      "source": [
        "# testing\n",
        "\n",
        "from IPython.utils import io\n",
        "\n",
        "with io.capture_output() as captured:\n",
        "    %run -i /content/pdfid/pdfid.py -h\n",
        "print(captured.stdout)"
      ],
      "execution_count": 18,
      "outputs": [
        {
          "output_type": "stream",
          "text": [
            "Usage: pdfid.py [options] [pdf-file|zip-file|url|@file] ...\n",
            "Tool to test a PDF file\n",
            "\n",
            "Arguments:\n",
            "pdf-file and zip-file can be a single file, several files, and/or @file\n",
            "@file: run PDFiD on each file listed in the text file specified\n",
            "wildcards are supported\n",
            "\n",
            "Source code put in the public domain by Didier Stevens, no Copyright\n",
            "Use at your own risk\n",
            "https://DidierStevens.com\n",
            "\n",
            "Options:\n",
            "  --version             show program's version number and exit\n",
            "  -h, --help            show this help message and exit\n",
            "  -s, --scan            scan the given directory\n",
            "  -a, --all             display all the names\n",
            "  -e, --extra           display extra data, like dates\n",
            "  -f, --force           force the scan of the file, even without proper %PDF\n",
            "                        header\n",
            "  -d, --disarm          disable JavaScript and auto launch\n",
            "  -p PLUGINS, --plugins=PLUGINS\n",
            "                        plugins to load (separate plugins with a comma , ;\n",
            "                        @file supported)\n",
            "  -c, --csv             output csv data when using plugins\n",
            "  -m MINIMUMSCORE, --minimumscore=MINIMUMSCORE\n",
            "                        minimum score for plugin results output\n",
            "  -v, --verbose         verbose (will also raise catched exceptions)\n",
            "  -S SELECT, --select=SELECT\n",
            "                        selection expression\n",
            "  -n, --nozero          supress output for counts equal to zero\n",
            "  -o OUTPUT, --output=OUTPUT\n",
            "                        output to log file\n",
            "  --pluginoptions=PLUGINOPTIONS\n",
            "                        options for the plugin\n",
            "  -l, --literalfilenames\n",
            "                        take filenames literally, no wildcard matching\n",
            "  --recursedir          Recurse directories (wildcards and here files (@...)\n",
            "                        allowed)\n",
            "\n"
          ],
          "name": "stdout"
        }
      ]
    },
    {
      "cell_type": "code",
      "metadata": {
        "colab": {
          "base_uri": "https://localhost:8080/"
        },
        "id": "TTeTCYMeGwAu",
        "outputId": "a4499485-45fe-4200-8127-b1a777f85373"
      },
      "source": [
        "from IPython.utils import io\n",
        "\n",
        "with io.capture_output() as captured:\n",
        "    %run -i /content/pdfid/pdfid.py /content/pdfsamples/PythonBrochure.pdf\n",
        "print(captured.stdout)"
      ],
      "execution_count": 28,
      "outputs": [
        {
          "output_type": "stream",
          "text": [
            "PDFiD 0.2.5 /content/pdfsamples/PythonBrochure.pdf\n",
            " PDF Header: %PDF-1.6\n",
            " obj                 1096\n",
            " endobj              1095\n",
            " stream              1061\n",
            " endstream           1061\n",
            " xref                   0\n",
            " trailer                0\n",
            " startxref              2\n",
            " /Page                 32\n",
            " /Encrypt               0\n",
            " /ObjStm               43\n",
            " /JS                    0\n",
            " /JavaScript            0\n",
            " /AA                    1\n",
            " /OpenAction            0\n",
            " /AcroForm              1\n",
            " /JBIG2Decode           0\n",
            " /RichMedia             0\n",
            " /Launch                0\n",
            " /EmbeddedFile          0\n",
            " /XFA                   0\n",
            " /URI                   0\n",
            " /Colors > 2^24         0\n",
            "\n",
            "\n"
          ],
          "name": "stdout"
        }
      ]
    },
    {
      "cell_type": "code",
      "metadata": {
        "id": "-QM395kSEb5P"
      },
      "source": [
        "def PDF_to_FV(file_path):\n",
        "  print(file_path)\n",
        "  with io.capture_output() as captured:\n",
        "    %run -i /content/pdfid/pdfid.py $file_path\n",
        "  out = captured.stdout\n",
        "  print(out)\n",
        "  out1 = out.split(\"\\n\")[2:-2]\n",
        "  return [int(x.split()[-1]) for x in out1]\n"
      ],
      "execution_count": 33,
      "outputs": []
    },
    {
      "cell_type": "code",
      "metadata": {
        "id": "cw5NidtrF687"
      },
      "source": [
        "!mkdir pdfsamples\n",
        "!mv *.pdf pdfsamples/"
      ],
      "execution_count": 20,
      "outputs": []
    },
    {
      "cell_type": "code",
      "metadata": {
        "colab": {
          "base_uri": "https://localhost:8080/"
        },
        "id": "7fzsv21IGZY0",
        "outputId": "62802e7b-42a5-4e2c-d790-c51423b36b9b"
      },
      "source": [
        "!pwd"
      ],
      "execution_count": 24,
      "outputs": [
        {
          "output_type": "stream",
          "text": [
            "/content\n"
          ],
          "name": "stdout"
        }
      ]
    },
    {
      "cell_type": "code",
      "metadata": {
        "colab": {
          "base_uri": "https://localhost:8080/"
        },
        "id": "bhjTWp3yDfcr",
        "outputId": "b2ca571c-ebc6-417c-87c8-27fe98d6f4c2"
      },
      "source": [
        "\n",
        "from os import listdir\n",
        "\n",
        "PDFs_path = \"/content/pdfsamples/\"\n",
        "\n",
        "X = []\n",
        "files = listdir(PDFs_path)\n",
        "print(files)\n",
        "for file in files:\n",
        "  file_path = PDFs_path + file \n",
        "  X.append(PDF_to_FV(file_path))\n",
        "print(X)"
      ],
      "execution_count": 35,
      "outputs": [
        {
          "output_type": "stream",
          "text": [
            "['PythonBrochure.pdf', 'pdfDOCS_User_Reference_Guide-1.pdf']\n",
            "/content/pdfsamples/PythonBrochure.pdf\n",
            "PDFiD 0.2.5 /content/pdfsamples/PythonBrochure.pdf\n",
            " PDF Header: %PDF-1.6\n",
            " obj                 1096\n",
            " endobj              1095\n",
            " stream              1061\n",
            " endstream           1061\n",
            " xref                   0\n",
            " trailer                0\n",
            " startxref              2\n",
            " /Page                 32\n",
            " /Encrypt               0\n",
            " /ObjStm               43\n",
            " /JS                    0\n",
            " /JavaScript            0\n",
            " /AA                    1\n",
            " /OpenAction            0\n",
            " /AcroForm              1\n",
            " /JBIG2Decode           0\n",
            " /RichMedia             0\n",
            " /Launch                0\n",
            " /EmbeddedFile          0\n",
            " /XFA                   0\n",
            " /URI                   0\n",
            " /Colors > 2^24         0\n",
            "\n",
            "\n",
            "/content/pdfsamples/pdfDOCS_User_Reference_Guide-1.pdf\n",
            "PDFiD 0.2.5 /content/pdfsamples/pdfDOCS_User_Reference_Guide-1.pdf\n",
            " PDF Header: %PDF-1.6\n",
            " obj                  153\n",
            " endobj               153\n",
            " stream                82\n",
            " endstream             82\n",
            " xref                   2\n",
            " trailer                2\n",
            " startxref              2\n",
            " /Page                  7\n",
            " /Encrypt               0\n",
            " /ObjStm                0\n",
            " /JS                    0\n",
            " /JavaScript            0\n",
            " /AA                    0\n",
            " /OpenAction            0\n",
            " /AcroForm              2\n",
            " /JBIG2Decode           0\n",
            " /RichMedia             0\n",
            " /Launch                0\n",
            " /EmbeddedFile          0\n",
            " /XFA                   0\n",
            " /URI                   0\n",
            " /Colors > 2^24         0\n",
            "\n",
            "\n",
            "[[1096, 1095, 1061, 1061, 0, 0, 2, 32, 0, 43, 0, 0, 1, 0, 1, 0, 0, 0, 0, 0, 0, 0], [153, 153, 82, 82, 2, 2, 2, 7, 0, 0, 0, 0, 0, 0, 2, 0, 0, 0, 0, 0, 0, 0]]\n"
          ],
          "name": "stdout"
        }
      ]
    }
  ]
}