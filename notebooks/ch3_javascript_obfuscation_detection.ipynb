{
 "cells": [
  {
   "cell_type": "code",
   "execution_count": 1,
   "id": "sticky-counter",
   "metadata": {
    "_cell_guid": "b1076dfc-b9ad-4769-8c92-a6c4dae69d19",
    "_uuid": "8f2839f25d086af736a60e9eeb907d3b93b6e0e5",
    "execution": {
     "iopub.execute_input": "2021-05-03T13:45:03.647154Z",
     "iopub.status.busy": "2021-05-03T13:45:03.646433Z",
     "iopub.status.idle": "2021-05-03T13:45:05.224655Z",
     "shell.execute_reply": "2021-05-03T13:45:05.223224Z"
    },
    "papermill": {
     "duration": 1.600048,
     "end_time": "2021-05-03T13:45:05.224873",
     "exception": false,
     "start_time": "2021-05-03T13:45:03.624825",
     "status": "completed"
    },
    "tags": []
   },
   "outputs": [],
   "source": [
    "import os\n",
    "\n",
    "from sklearn.feature_extraction.text import HashingVectorizer, TfidfTransformer\n",
    "from sklearn.ensemble import RandomForestClassifier\n",
    "from sklearn.model_selection import train_test_split\n",
    "from sklearn.metrics import accuracy_score, confusion_matrix\n",
    "from sklearn.pipeline import Pipeline"
   ]
  },
  {
   "cell_type": "markdown",
   "id": "outer-arthritis",
   "metadata": {
    "papermill": {
     "duration": 0.009402,
     "end_time": "2021-05-03T13:45:05.243297",
     "exception": false,
     "start_time": "2021-05-03T13:45:05.233895",
     "status": "completed"
    },
    "tags": []
   },
   "source": [
    "We begin by importing standard Python libraries to analyze the files and set up machine\n",
    "learning pipelines (Step 1). In Steps 2 and 3, we collect the non-obfuscated and obfuscated\n",
    "JavaScript files into arrays and assign them their respective labels. "
   ]
  },
  {
   "cell_type": "code",
   "execution_count": 2,
   "id": "exceptional-recruitment",
   "metadata": {
    "execution": {
     "iopub.execute_input": "2021-05-03T13:45:05.267176Z",
     "iopub.status.busy": "2021-05-03T13:45:05.266265Z",
     "iopub.status.idle": "2021-05-03T13:45:05.270089Z",
     "shell.execute_reply": "2021-05-03T13:45:05.269342Z"
    },
    "papermill": {
     "duration": 0.018593,
     "end_time": "2021-05-03T13:45:05.270242",
     "exception": false,
     "start_time": "2021-05-03T13:45:05.251649",
     "status": "completed"
    },
    "tags": []
   },
   "outputs": [],
   "source": [
    "js_path = \"../input/obfuscated-javascript-dataset/JavascriptSamplesNotObfuscated/JavascriptSamples\"\n",
    "obfuscated_js_path = \"../input/obfuscated-javascript-dataset/JavascriptSamplesObfuscated/JavascriptSamplesObfuscated\""
   ]
  },
  {
   "cell_type": "code",
   "execution_count": 3,
   "id": "possible-webster",
   "metadata": {
    "execution": {
     "iopub.execute_input": "2021-05-03T13:45:05.292662Z",
     "iopub.status.busy": "2021-05-03T13:45:05.291702Z",
     "iopub.status.idle": "2021-05-03T13:45:05.295028Z",
     "shell.execute_reply": "2021-05-03T13:45:05.295567Z"
    },
    "papermill": {
     "duration": 0.017212,
     "end_time": "2021-05-03T13:45:05.295744",
     "exception": false,
     "start_time": "2021-05-03T13:45:05.278532",
     "status": "completed"
    },
    "tags": []
   },
   "outputs": [],
   "source": [
    "corpus = []\n",
    "labels = []\n",
    "file_types_and_labels = [(js_path,0), (obfuscated_js_path, 1)]"
   ]
  },
  {
   "cell_type": "code",
   "execution_count": 4,
   "id": "variable-mother",
   "metadata": {
    "execution": {
     "iopub.execute_input": "2021-05-03T13:45:05.321183Z",
     "iopub.status.busy": "2021-05-03T13:45:05.320218Z",
     "iopub.status.idle": "2021-05-03T13:45:16.714064Z",
     "shell.execute_reply": "2021-05-03T13:45:16.713467Z"
    },
    "papermill": {
     "duration": 11.410203,
     "end_time": "2021-05-03T13:45:16.714215",
     "exception": false,
     "start_time": "2021-05-03T13:45:05.304012",
     "status": "completed"
    },
    "tags": []
   },
   "outputs": [],
   "source": [
    "for files_path, label in file_types_and_labels:\n",
    "    files = os.listdir(files_path)\n",
    "    for file in files:\n",
    "    \n",
    "        file_path = files_path + \"/\" + file\n",
    "        try:\n",
    "            with open(file_path, \"r\") as myfile:\n",
    "                data = myfile.read().replace(\"\\n\", \"\")\n",
    "                data = str(data)\n",
    "                corpus.append(data)\n",
    "                labels.append(label)\n",
    "        except Exception as e:\n",
    "            print(e)"
   ]
  },
  {
   "cell_type": "code",
   "execution_count": 5,
   "id": "neither-sugar",
   "metadata": {
    "execution": {
     "iopub.execute_input": "2021-05-03T13:45:16.739749Z",
     "iopub.status.busy": "2021-05-03T13:45:16.738834Z",
     "iopub.status.idle": "2021-05-03T13:45:16.742885Z",
     "shell.execute_reply": "2021-05-03T13:45:16.743424Z"
    },
    "papermill": {
     "duration": 0.020634,
     "end_time": "2021-05-03T13:45:16.743612",
     "exception": false,
     "start_time": "2021-05-03T13:45:16.722978",
     "status": "completed"
    },
    "tags": []
   },
   "outputs": [
    {
     "data": {
      "text/plain": [
       "(3375, 3375)"
      ]
     },
     "execution_count": 5,
     "metadata": {},
     "output_type": "execute_result"
    }
   ],
   "source": [
    "len(corpus), len(labels)"
   ]
  },
  {
   "cell_type": "markdown",
   "id": "stuffed-focus",
   "metadata": {
    "papermill": {
     "duration": 0.01101,
     "end_time": "2021-05-03T13:45:16.764090",
     "exception": false,
     "start_time": "2021-05-03T13:45:16.753080",
     "status": "completed"
    },
    "tags": []
   },
   "source": [
    "Note that the main challenge in producing this classifier\n",
    "is producing a large and useful dataset. Ideas for solving this hurdle include collecting a\n",
    "large number of JavaScript samples and then using different tools to obfuscate these."
   ]
  },
  {
   "cell_type": "code",
   "execution_count": 6,
   "id": "solid-title",
   "metadata": {
    "execution": {
     "iopub.execute_input": "2021-05-03T13:45:16.788306Z",
     "iopub.status.busy": "2021-05-03T13:45:16.787621Z",
     "iopub.status.idle": "2021-05-03T13:45:16.800972Z",
     "shell.execute_reply": "2021-05-03T13:45:16.800385Z"
    },
    "papermill": {
     "duration": 0.026658,
     "end_time": "2021-05-03T13:45:16.801116",
     "exception": false,
     "start_time": "2021-05-03T13:45:16.774458",
     "status": "completed"
    },
    "tags": []
   },
   "outputs": [],
   "source": [
    "X_train, X_test, y_train, y_test = train_test_split(\n",
    "    corpus, labels, test_size=0.33, random_state=42\n",
    ")\n",
    "\n",
    "text_clf = Pipeline(\n",
    "    [\n",
    "        (\"vect\", HashingVectorizer(input=\"content\",ngram_range=(1,3))),\n",
    "        (\"tfidf\", TfidfTransformer(use_idf=True,)),\n",
    "        (\"rf\", RandomForestClassifier(class_weight=\"balanced\")),\n",
    "    ]\n",
    ")\n"
   ]
  },
  {
   "cell_type": "markdown",
   "id": "grave-attribute",
   "metadata": {
    "papermill": {
     "duration": 0.008334,
     "end_time": "2021-05-03T13:45:16.818590",
     "exception": false,
     "start_time": "2021-05-03T13:45:16.810256",
     "status": "completed"
    },
    "tags": []
   },
   "source": [
    "Having collected the data, we separate it into training and testing subsets (Step\n",
    "4). In addition, we set up a pipeline to apply NLP methods to the JavaScript code itself, and\n",
    "then train a classifier\n",
    "\n",
    "Finally, we measure the performance of our classifier"
   ]
  },
  {
   "cell_type": "code",
   "execution_count": 7,
   "id": "divine-instrumentation",
   "metadata": {
    "execution": {
     "iopub.execute_input": "2021-05-03T13:45:16.859667Z",
     "iopub.status.busy": "2021-05-03T13:45:16.855606Z",
     "iopub.status.idle": "2021-05-03T13:45:57.393305Z",
     "shell.execute_reply": "2021-05-03T13:45:57.393840Z"
    },
    "papermill": {
     "duration": 40.565802,
     "end_time": "2021-05-03T13:45:57.394021",
     "exception": false,
     "start_time": "2021-05-03T13:45:16.828219",
     "status": "completed"
    },
    "tags": []
   },
   "outputs": [
    {
     "name": "stdout",
     "output_type": "stream",
     "text": [
      "0.9712746858168761\n",
      "[[619  16]\n",
      " [ 16 463]]\n"
     ]
    }
   ],
   "source": [
    "text_clf.fit(X_train, y_train)\n",
    "y_test_pred = text_clf.predict(X_test)\n",
    "\n",
    "print(accuracy_score(y_test, y_test_pred))\n",
    "print(confusion_matrix(y_test, y_test_pred))"
   ]
  }
 ],
 "metadata": {
  "kernelspec": {
   "display_name": "Python 3",
   "language": "python",
   "name": "python3"
  },
  "language_info": {
   "codemirror_mode": {
    "name": "ipython",
    "version": 3
   },
   "file_extension": ".py",
   "mimetype": "text/x-python",
   "name": "python",
   "nbconvert_exporter": "python",
   "pygments_lexer": "ipython3",
   "version": "3.7.10"
  },
  "papermill": {
   "default_parameters": {},
   "duration": 65.038776,
   "end_time": "2021-05-03T13:45:58.758968",
   "environment_variables": {},
   "exception": null,
   "input_path": "__notebook__.ipynb",
   "output_path": "__notebook__.ipynb",
   "parameters": {},
   "start_time": "2021-05-03T13:44:53.720192",
   "version": "2.3.3"
  }
 },
 "nbformat": 4,
 "nbformat_minor": 5
}
